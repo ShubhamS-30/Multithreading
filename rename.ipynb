{
 "cells": [
  {
   "cell_type": "code",
   "execution_count": 23,
   "metadata": {},
   "outputs": [],
   "source": [
    "import os"
   ]
  },
  {
   "cell_type": "code",
   "execution_count": 30,
   "metadata": {},
   "outputs": [],
   "source": [
    "files = os.listdir('Dog/')"
   ]
  },
  {
   "cell_type": "code",
   "execution_count": 31,
   "metadata": {},
   "outputs": [
    {
     "data": {
      "text/plain": [
       "10"
      ]
     },
     "execution_count": 31,
     "metadata": {},
     "output_type": "execute_result"
    }
   ],
   "source": [
    "len(files)"
   ]
  },
  {
   "cell_type": "code",
   "execution_count": 32,
   "metadata": {},
   "outputs": [
    {
     "name": "stdout",
     "output_type": "stream",
     "text": [
      "Dog/dog14.jpeg\n",
      "29992.jpg\n",
      "Dog/dog18.jpeg\n",
      "29993.jpg\n",
      "Dog/dog19.jpeg\n",
      "29994.jpg\n",
      "Dog/dog20.jpeg\n",
      "29995.jpg\n",
      "Dog/dog24.jpeg\n",
      "29996.jpg\n",
      "Dog/dog25.jpeg\n",
      "29997.jpg\n",
      "Dog/dog26.jpeg\n",
      "29998.jpg\n",
      "Dog/dog30.jpeg\n",
      "29999.jpg\n",
      "Dog/dog31.jpeg\n",
      "30000.jpg\n",
      "Dog/dog32.jpeg\n",
      "30001.jpg\n"
     ]
    }
   ],
   "source": [
    "pre = str('Dog/')\n",
    "num = 29992\n",
    "for file in files:\n",
    "    path = str(pre) + str(file)\n",
    "    print(str(path))\n",
    "    new_name = str(num) + '.jpg'\n",
    "    print(new_name)\n",
    "    num+=1\n",
    "    dest = pre+new_name\n",
    "    os.rename(path,dest)\n",
    "    \n",
    "    "
   ]
  },
  {
   "cell_type": "code",
   "execution_count": null,
   "metadata": {},
   "outputs": [],
   "source": []
  },
  {
   "cell_type": "code",
   "execution_count": null,
   "metadata": {},
   "outputs": [],
   "source": []
  },
  {
   "cell_type": "code",
   "execution_count": null,
   "metadata": {},
   "outputs": [],
   "source": []
  }
 ],
 "metadata": {
  "kernelspec": {
   "display_name": "Python 3",
   "language": "python",
   "name": "python3"
  },
  "language_info": {
   "codemirror_mode": {
    "name": "ipython",
    "version": 3
   },
   "file_extension": ".py",
   "mimetype": "text/x-python",
   "name": "python",
   "nbconvert_exporter": "python",
   "pygments_lexer": "ipython3",
   "version": "3.10.2"
  },
  "orig_nbformat": 4
 },
 "nbformat": 4,
 "nbformat_minor": 2
}
