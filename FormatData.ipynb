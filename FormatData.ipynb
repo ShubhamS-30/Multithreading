{
 "cells": [
  {
   "cell_type": "code",
   "execution_count": 1,
   "metadata": {},
   "outputs": [],
   "source": [
    "import os"
   ]
  },
  {
   "cell_type": "code",
   "execution_count": 2,
   "metadata": {},
   "outputs": [
    {
     "data": {
      "text/plain": [
       "30000"
      ]
     },
     "execution_count": 2,
     "metadata": {},
     "output_type": "execute_result"
    }
   ],
   "source": [
    "# DIR -> DIRECTORY CONTAINING IMAGES\n",
    "path = './IMG/'\n",
    "dir = os.listdir(os.path.join(path))\n",
    "# NUMBER OF FILES\n",
    "len(dir) "
   ]
  },
  {
   "cell_type": "markdown",
   "metadata": {},
   "source": [
    "### FUNCTION TO WRITE FILE PATHS IN A TEXT FILE ###"
   ]
  },
  {
   "cell_type": "code",
   "execution_count": 3,
   "metadata": {},
   "outputs": [],
   "source": [
    "def GetFileNames(directory, output_file):\n",
    "    with open(output_file, 'w') as f:\n",
    "        for root, dirs, files in os.walk(directory):\n",
    "            for file in files:\n",
    "                f.write(file + '\\n')\n",
    "\n",
    "directory_to_traverse = path \n",
    "output_file = 'file_names.txt'\n",
    "\n",
    "GetFileNames(directory_to_traverse, output_file)"
   ]
  }
 ],
 "metadata": {
  "kernelspec": {
   "display_name": "Python 3",
   "language": "python",
   "name": "python3"
  },
  "language_info": {
   "codemirror_mode": {
    "name": "ipython",
    "version": 3
   },
   "file_extension": ".py",
   "mimetype": "text/x-python",
   "name": "python",
   "nbconvert_exporter": "python",
   "pygments_lexer": "ipython3",
   "version": "3.10.2"
  },
  "orig_nbformat": 4
 },
 "nbformat": 4,
 "nbformat_minor": 2
}
